{
 "cells": [
  {
   "cell_type": "markdown",
   "id": "040c5033-7522-4044-8f71-364583f5b3e4",
   "metadata": {},
   "source": [
    "### Fixed Sized Sliding Window Problems"
   ]
  },
  {
   "cell_type": "markdown",
   "id": "0d38d883-5017-478a-82fc-e06fe951856c",
   "metadata": {},
   "source": [
    "1.  **Maximum Sum Subarray of Size *k***\n",
    "\n",
    "    *   **Problem Description:** Given an array of integers, find the contiguous subarray of size *k* that has the maximum sum.\n",
    "\n",
    "    *   **Test Cases:**\n",
    "\n",
    "        *   `arr = [1, 4, 2, 10, 2, 3, 1, 0, 20], k = 4` (Expected: 24)\n",
    "        *   `arr = [-1, -3, 4, -2, 6, -1, 3], k = 3` (Expected: 7)\n",
    "        *   `arr = [1, 2, 3, 4, 5], k = 1` (Expected: 5)\n",
    "        *   `arr = [5, 4, 3, 2, 1], k = 5` (Expected: 15)\n",
    "        *   `arr = [], k = 2` (Edge Case: Handle empty array)\n",
    "        *   `arr = [1, 2, 3], k = 4` (Edge Case: Handle k > array length)"
   ]
  },
  {
   "cell_type": "code",
   "execution_count": 25,
   "id": "09ae520f-4d8a-4458-afa2-801b5cd7eb0b",
   "metadata": {},
   "outputs": [
    {
     "name": "stdin",
     "output_type": "stream",
     "text": [
      " -1 -3 4 -2 6 -1 3 \n",
      " 3\n"
     ]
    },
    {
     "name": "stdout",
     "output_type": "stream",
     "text": [
      "8\n"
     ]
    }
   ],
   "source": [
    "def max_sum_subarray(arr, k):\n",
    "    if not arr or k > len(arr):\n",
    "        return 0\n",
    "    window_sum = sum(arr[:k])\n",
    "    max_sum = window_sum\n",
    "    for i in range(k, len(arr)):\n",
    "        window_sum += arr[i] - arr[i - k]\n",
    "        max_sum = max(max_sum, window_sum)\n",
    "    return max_sum\n",
    "\n",
    "arr = list(map(int,input().split()))\n",
    "k = int(input())\n",
    "print(max_sum_subarray(arr, k))"
   ]
  },
  {
   "cell_type": "markdown",
   "id": "18a4c462-8514-4199-9a6b-2af2d3f24657",
   "metadata": {},
   "source": [
    "2.  **Minimum Average Subarray of Size *k***\n",
    "\n",
    "    *   **Problem Description:** Given an array of integers, find the contiguous subarray of size *k* that has the minimum average.\n",
    "\n",
    "    *   **Test Cases:**\n",
    "\n",
    "        *   `arr = [1, 4, 2, 10, 2, 3, 1, 0, 20], k = 4` (Expected: 0.75)\n",
    "        *   `arr = [1, 12, -5, -6, 50, 3], k = 4` (Expected: -2.5)\n",
    "        *   `arr = [4, 2, 1, 5, 3], k = 1` (Expected: 1)\n",
    "        *   `arr = [5, 4, 3, 2, 1], k = 5` (Expected: 3)\n",
    "        *   `arr = [], k = 3` (Edge Case)\n",
    "        *   `arr = [1, 2], k = 3` (Edge Case)\n"
   ]
  },
  {
   "cell_type": "code",
   "execution_count": 26,
   "id": "4b95adb2-80ee-4106-a292-f1872f062bd4",
   "metadata": {},
   "outputs": [
    {
     "name": "stdin",
     "output_type": "stream",
     "text": [
      " 4 1 2 5 3\n",
      " 5\n"
     ]
    },
    {
     "name": "stdout",
     "output_type": "stream",
     "text": [
      "3.0\n"
     ]
    }
   ],
   "source": [
    "def min_avg_subarray(arr, k):\n",
    "    if not arr or k > len(arr):\n",
    "        return 0\n",
    "    window_sum = sum(arr[:k])\n",
    "    min_sum = window_sum\n",
    "    for i in range(k, len(arr)):\n",
    "        window_sum += arr[i] - arr[i - k]\n",
    "        min_sum = min(min_sum, window_sum)\n",
    "    return min_sum / k\n",
    "\n",
    "arr = list(map(int,input().split()))\n",
    "k = int(input())\n",
    "print(min_avg_subarray(arr, k))"
   ]
  },
  {
   "cell_type": "markdown",
   "id": "7bec9e55-ab76-45d5-b8e1-fc05e42f9167",
   "metadata": {},
   "source": [
    "3.  **Find the Longest Substring with at Most *k* Distinct Characters**\n",
    "\n",
    "    *   **Problem Description:** Given a string, find the longest substring that contains at most *k* distinct characters.\n",
    "\n",
    "    *   **Test Cases:**\n",
    "\n",
    "        *   `s = \"eceba\", k = 2` (Expected: \"ece\")\n",
    "        *   `s = \"aabbcc\", k = 1` (Expected: \"aa\" or \"bb\" or \"cc\")\n",
    "        *   `s = \"aabbcc\", k = 2` (Expected: \"aabb\" or \"bbcc\")\n",
    "        *   `s = \"abcabcbb\", k = 3` (Expected: \"abcabcbb\")\n",
    "        *   `s = \"\", k = 2` (Edge Case)\n",
    "        *   `s = \"aaaa\", k = 0` (Edge Case)\n",
    "        *   `s = \"aaaa\", k = 1` (Expected: \"aaaa\")\n"
   ]
  },
  {
   "cell_type": "code",
   "execution_count": 1,
   "id": "15360765-b092-4257-b936-5f869f23eec0",
   "metadata": {},
   "outputs": [
    {
     "name": "stdin",
     "output_type": "stream",
     "text": [
      " eceba\n",
      " 2\n"
     ]
    },
    {
     "name": "stdout",
     "output_type": "stream",
     "text": [
      "ece\n"
     ]
    }
   ],
   "source": [
    "from collections import defaultdict\n",
    "\n",
    "def longest_substring_k_distinct(s, k):\n",
    "    if k == 0 or not s:\n",
    "        return \"\"\n",
    "    left = 0\n",
    "    max_len = 0\n",
    "    start = 0\n",
    "    char_map = defaultdict(int)\n",
    "\n",
    "    for right in range(len(s)):\n",
    "        char_map[s[right]] += 1\n",
    "\n",
    "        while len(char_map) > k:\n",
    "            char_map[s[left]] -= 1\n",
    "            if char_map[s[left]] == 0:\n",
    "                del char_map[s[left]]\n",
    "            left += 1\n",
    "\n",
    "        if right - left + 1 > max_len:\n",
    "            max_len = right - left + 1\n",
    "            start = left\n",
    "\n",
    "    return s[start:start + max_len]\n",
    "\n",
    "s = input()\n",
    "k = int(input())\n",
    "print(longest_substring_k_distinct(s, k))"
   ]
  },
  {
   "cell_type": "markdown",
   "id": "3a9bfd1d-363c-425f-a8f1-abbeffe09d25",
   "metadata": {},
   "source": [
    "4.  **Counting Occurrences of Anagrams**\n",
    "\n",
    "    *   **Problem Description:** Given a string `text` and a string `pattern`, count the number of anagrams of `pattern` that are present in `text`.\n",
    "\n",
    "    *   **Test Cases:**\n",
    "\n",
    "        *   `text = \"cbaebabacd\", pattern = \"abc\"` (Expected: 2)\n",
    "        *   `text = \"abab\", pattern = \"ab\"` (Expected: 3)\n",
    "        *   `text = \"aabaabaa\", pattern = \"aaba\"` (Expected: 4)\n",
    "        *   `text = \"\", pattern = \"abc\"` (Edge Case)\n",
    "        *   `text = \"abc\", pattern = \"\"` (Edge Case - what should be the result?)\n",
    "        *   `text = \"abc\", pattern = \"abcd\"` (Pattern longer than text)"
   ]
  },
  {
   "cell_type": "code",
   "execution_count": 2,
   "id": "8c697215-9399-4517-9888-ec78d4db03a4",
   "metadata": {},
   "outputs": [
    {
     "name": "stdin",
     "output_type": "stream",
     "text": [
      " cbaebabacd\n",
      " abc\n"
     ]
    },
    {
     "name": "stdout",
     "output_type": "stream",
     "text": [
      "2\n"
     ]
    }
   ],
   "source": [
    "from collections import Counter\n",
    "\n",
    "def count_anagrams(text, pattern):\n",
    "    if not pattern or not text or len(pattern) > len(text):\n",
    "        return 0\n",
    "    count = 0\n",
    "    k = len(pattern)\n",
    "    pattern_counter = Counter(pattern)\n",
    "    window_counter = Counter(text[:k-1])\n",
    "\n",
    "    for i in range(k-1, len(text)):\n",
    "        window_counter[text[i]] += 1\n",
    "        if window_counter == pattern_counter:\n",
    "            count += 1\n",
    "        window_counter[text[i - k + 1]] -= 1\n",
    "        if window_counter[text[i - k + 1]] == 0:\n",
    "            del window_counter[text[i - k + 1]]\n",
    "    return count\n",
    "\n",
    "text=input()\n",
    "pattern=input()\n",
    "print(count_anagrams(text, pattern))"
   ]
  },
  {
   "cell_type": "markdown",
   "id": "5876032c-bbdc-45e7-8fe9-c9466c8da5fb",
   "metadata": {},
   "source": [
    "### Scenario-Based Problems"
   ]
  },
  {
   "cell_type": "markdown",
   "id": "495e0819-b671-4d40-82bc-e80a64cfd986",
   "metadata": {},
   "source": [
    "1.  **Sensor Data Smoothing**\n",
    "\n",
    "    *   **Problem Description:** A sensor collects temperature readings every second.  To reduce noise, calculate the moving average temperature over a 5-second window.  Given an array of temperature readings, return an array of the smoothed temperatures (moving averages).\n",
    "\n",
    "    *   **Test Cases:**\n",
    "\n",
    "        *   `readings = [25, 26, 24, 27, 28, 29, 25, 24, 26], k = 5` (Calculate the expected averages)\n",
    "        *   `readings = [20, 21, 22], k = 3`\n",
    "        *   `readings = [20, 21, 22], k = 1`\n",
    "        *   `readings = [], k = 5`\n",
    "        *   `readings = [20, 21], k = 5`"
   ]
  },
  {
   "cell_type": "code",
   "execution_count": 3,
   "id": "b980524e-ec3d-4346-ba80-67023c916c59",
   "metadata": {},
   "outputs": [
    {
     "name": "stdin",
     "output_type": "stream",
     "text": [
      " 25 26 24 27 28 29 25 24 26\n",
      " 5\n"
     ]
    },
    {
     "name": "stdout",
     "output_type": "stream",
     "text": [
      "[26.0, 26.8, 26.6, 26.6, 26.4]\n"
     ]
    }
   ],
   "source": [
    "def moving_average(readings, k):\n",
    "    if not readings or k <= 0 or k > len(readings):\n",
    "        return []\n",
    "    result = []\n",
    "    window_sum = sum(readings[:k])\n",
    "    result.append(window_sum / k)\n",
    "    for i in range(k, len(readings)):\n",
    "        window_sum += readings[i] - readings[i-k]\n",
    "        result.append(window_sum / k)\n",
    "    return result\n",
    "\n",
    "readings = list(map(int,input().split()))\n",
    "k=int(input())\n",
    "print( moving_average(readings, k))"
   ]
  },
  {
   "cell_type": "markdown",
   "id": "82af54ec-a251-4cd9-b28c-2aa25bf20b94",
   "metadata": {},
   "source": [
    "2.  **Website Traffic Analysis**\n",
    "\n",
    "    *   **Problem Description:** You are given an array representing the number of users visiting a website each day for a year. Find the 30-day period with the highest total traffic. Return the start and end dates of that period (assuming the year starts on January 1st).\n",
    "\n",
    "    *   **Test Cases:**\n",
    "\n",
    "        *   Create an array of 365 random integers and test with *k* = 30.\n",
    "        *   An array where traffic is concentrated in a particular month.\n",
    "        *   An array with evenly distributed traffic.\n",
    "        *   Empty array.\n",
    "        *   Array with less than 30 days."
   ]
  },
  {
   "cell_type": "code",
   "execution_count": 4,
   "id": "88893fdb-0e25-4d80-8e03-79d0d884a83e",
   "metadata": {},
   "outputs": [
    {
     "name": "stdout",
     "output_type": "stream",
     "text": [
      "(0, 29)\n"
     ]
    }
   ],
   "source": [
    "def max_traffic_period(traffic, k=30):\n",
    "    if len(traffic) < k:\n",
    "        return None\n",
    "    max_sum = current_sum = sum(traffic[:k])\n",
    "    start = 0\n",
    "    for i in range(k, len(traffic)):\n",
    "        current_sum += traffic[i] - traffic[i-k]\n",
    "        if current_sum > max_sum:\n",
    "            max_sum = current_sum\n",
    "            start = i - k + 1\n",
    "    return (start, start + k - 1)\n",
    "\n",
    "# Sample traffic data for 60 days\n",
    "traffic = [\n",
    "    100, 120, 110, 150, 180, 170, 160, 140, 135, 145,\n",
    "    130, 125, 155, 165, 175, 185, 195, 205, 215, 225,\n",
    "    235, 245, 255, 265, 275, 285, 295, 305, 315, 325, \n",
    "    100, 100, 100, 100, 100, 100, 100, 100, 100, 100,\n",
    "    100, 100, 100, 100, 100, 100, 100, 100, 100, 100,\n",
    "    90,  85,  80,  75,  70,  65,  60,  55,  50,  45\n",
    "]\n",
    "\n",
    "print(max_traffic_period(traffic, k=30)) "
   ]
  },
  {
   "cell_type": "markdown",
   "id": "482c1356-8bde-4e69-bb92-7acd5fa6ea54",
   "metadata": {},
   "source": [
    "\n",
    "3.  **Financial Data Analysis**\n",
    "\n",
    "    *   **Problem Description:** Given an array of daily stock prices for a company, find the *k*-day period (a \"trading window\") where the price volatility (the difference between the highest and lowest price within that period) is the greatest.\n",
    "\n",
    "    *   **Test Cases:**\n",
    "\n",
    "        *   `prices = [10, 12, 15, 11, 13, 17, 14, 16, 18], k = 5`\n",
    "        *   `prices = [20, 20, 20, 20, 20], k = 3` (Zero volatility)\n",
    "        *   `prices = [1, 2, 3, 4, 5], k = 3` (Increasing prices)\n",
    "        *   `prices = [], k = 7`\n",
    "        *   `prices = [10, 12], k = 5`\n"
   ]
  },
  {
   "cell_type": "code",
   "execution_count": 8,
   "id": "2d6bb10f-b39a-45cc-8320-21ecf1f23785",
   "metadata": {},
   "outputs": [
    {
     "name": "stdout",
     "output_type": "stream",
     "text": [
      "(1, 5)\n"
     ]
    }
   ],
   "source": [
    "def max_volatility(prices, k):\n",
    "    if not prices or k > len(prices):\n",
    "        return None\n",
    "    max_vol = 0\n",
    "    best_window = (0, 0)\n",
    "    for i in range(len(prices) - k + 1):\n",
    "        window = prices[i:i+k]\n",
    "        volatility = max(window) - min(window)\n",
    "        if volatility > max_vol:\n",
    "            max_vol = volatility\n",
    "            best_window = (i, i + k - 1)\n",
    "    return best_window\n",
    "\n",
    "prices1 = [10, 12, 15, 11, 13, 17, 14, 16, 18]\n",
    "k1 = 5\n",
    "print(max_volatility(prices1, k1))  "
   ]
  },
  {
   "cell_type": "markdown",
   "id": "144b19a8-1edd-4530-adf5-621296d7506b",
   "metadata": {},
   "source": [
    "4.  **DNA Sequencing Analysis**\n",
    "\n",
    "    *   **Problem Description:** A DNA sequence is represented as a string of characters 'A', 'C', 'G', and 'T'.  You want to identify regions (substrings) of length *k* that have a high GC-content (percentage of 'G' and 'C' characters).  Find the substring of length *k* with the maximum GC-content.\n",
    "\n",
    "    *   **Test Cases:**\n",
    "\n",
    "        *   `dna = \"ACGTAGCTAGCATGC\", k = 5`\n",
    "        *   `dna = \"AAAAAAA\", k = 3` (Zero GC-content)\n",
    "        *   `dna = \"GCGCGCG\", k = 4` (High GC-content)\n",
    "        *   `dna = \"\", k = 5`\n",
    "        *   `dna = \"ACGT\", k = 5`"
   ]
  },
  {
   "cell_type": "code",
   "execution_count": 7,
   "id": "fbad0a19-99c6-4bd7-a0b3-0c6c976937ca",
   "metadata": {},
   "outputs": [
    {
     "name": "stdout",
     "output_type": "stream",
     "text": [
      "CGTAG\n",
      "AAA\n"
     ]
    }
   ],
   "source": [
    "def max_gc_content(dna, k):\n",
    "    if not dna or k > len(dna):\n",
    "        return \"\"\n",
    "    max_gc = 0\n",
    "    best_start = 0\n",
    "    for i in range(len(dna) - k + 1):\n",
    "        window = dna[i:i+k]\n",
    "        gc_count = window.count('G') + window.count('C')\n",
    "        if gc_count > max_gc:\n",
    "            max_gc = gc_count\n",
    "            best_start = i\n",
    "    return dna[best_start:best_start+k]\n",
    "\n",
    "dna = \"ACGTAGCTAGCATGC\"\n",
    "k = 5\n",
    "print(max_gc_content(dna, k)) \n",
    "\n",
    "dna = \"AAAAAAA\"\n",
    "k = 3\n",
    "print(max_gc_content(dna, k)) "
   ]
  },
  {
   "cell_type": "markdown",
   "id": "40e352ed-7e17-45ec-8853-9e5138ba6cc0",
   "metadata": {},
   "source": [
    "5.  **Log File Analysis**\n",
    "\n",
    "    *   **Problem Description:** You have a log file where each line contains a timestamp and an event type.  You want to find the 10-minute window (a fixed-size time interval) with the highest number of \"ERROR\" events.  Assume timestamps are in seconds.\n",
    "\n",
    "    *   **Test Cases:**\n",
    "\n",
    "        *   Create a log file with timestamps and event types, varying the distribution of \"ERROR\" events.\n",
    "        *   A log file with no \"ERROR\" events.\n",
    "        *   An empty log file.\n",
    "        *   A log file with events all clustered within a small timeframe.\n"
   ]
  },
  {
   "cell_type": "code",
   "execution_count": 6,
   "id": "d397c368-3cd8-489a-8ae3-8e4415a2e3a5",
   "metadata": {},
   "outputs": [
    {
     "name": "stdout",
     "output_type": "stream",
     "text": [
      "(10, 610)\n"
     ]
    }
   ],
   "source": [
    "def max_error_window(logs, window_size=600):\n",
    "    if not logs:\n",
    "        return None\n",
    "\n",
    "    logs.sort()\n",
    "    max_count = 0\n",
    "    start_index = 0\n",
    "    for i in range(len(logs)):\n",
    "        count = 0\n",
    "        j = i\n",
    "        while j < len(logs) and logs[j][0] <= logs[i][0] + window_size:\n",
    "            if logs[j][1] == \"ERROR\":\n",
    "                count += 1\n",
    "            j += 1\n",
    "        if count > max_count:\n",
    "            max_count = count\n",
    "            start_index = i\n",
    "    return logs[start_index][0], logs[start_index][0] + window_size\n",
    "\n",
    "logs = [\n",
    "    (10, \"INFO\"),\n",
    "    (20, \"ERROR\"),\n",
    "    (100, \"ERROR\"),\n",
    "    (300, \"INFO\"),\n",
    "    (400, \"ERROR\"),\n",
    "    (500, \"ERROR\"),\n",
    "    (610, \"ERROR\"),\n",
    "    (700, \"INFO\"),\n",
    "    (900, \"ERROR\"),\n",
    "    (1000, \"ERROR\"),\n",
    "    (1600, \"ERROR\"),\n",
    "]\n",
    "\n",
    "print(max_error_window(logs, window_size=600))"
   ]
  },
  {
   "cell_type": "code",
   "execution_count": null,
   "id": "8a0c0f0c-9833-4228-ba98-455a249f68d3",
   "metadata": {},
   "outputs": [],
   "source": []
  }
 ],
 "metadata": {
  "kernelspec": {
   "display_name": "Python 3 (ipykernel)",
   "language": "python",
   "name": "python3"
  },
  "language_info": {
   "codemirror_mode": {
    "name": "ipython",
    "version": 3
   },
   "file_extension": ".py",
   "mimetype": "text/x-python",
   "name": "python",
   "nbconvert_exporter": "python",
   "pygments_lexer": "ipython3",
   "version": "3.11.7"
  }
 },
 "nbformat": 4,
 "nbformat_minor": 5
}
