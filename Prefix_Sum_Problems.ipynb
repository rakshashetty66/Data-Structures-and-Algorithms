{
 "cells": [
  {
   "cell_type": "markdown",
   "id": "481fe7d7-f2ef-49a9-a265-4d97292b7283",
   "metadata": {},
   "source": [
    "#### 1: Range Sum Query (Prefix Sum)\n",
    "\n",
    "**Problem:**\n",
    "Given an array of integers and multiple queries of the form `(L, R)`, return the sum of elements from index L to R, inclusive. You need to answer each query in O(1) time after preprocessing the array using Prefix Sum.\n",
    "\n",
    "**Input:**  arr = [2, 4, 6, 8, 10]    queries = [(0, 2), (1, 4), (2, 2)]\n",
    "\n",
    "**Expected Output:** [12,28,6]"
   ]
  },
  {
   "cell_type": "code",
   "execution_count": 1,
   "id": "b661d5cf-ef4e-4759-a78b-1ac5c34f38d3",
   "metadata": {},
   "outputs": [
    {
     "name": "stdin",
     "output_type": "stream",
     "text": [
      "Enter array elements:  1 2 3 4 5 6 7\n",
      "Enter number of queries:  1\n",
      "Enter L and R:   1 2\n"
     ]
    },
    {
     "name": "stdout",
     "output_type": "stream",
     "text": [
      "[5]\n"
     ]
    }
   ],
   "source": [
    "def Prefix_Sum1(array,queries):\n",
    "    n = len(array)\n",
    "    prefix_array = [0]*n\n",
    "    prefix_array[0] = array[0]\n",
    "\n",
    "    for i in range(n):\n",
    "        prefix_array[i] = prefix_array[i-1]+array[i]\n",
    "\n",
    "    result = []\n",
    "    for L,R in queries:\n",
    "            if L==0:\n",
    "                result.append(prefix_array[R])\n",
    "            else:\n",
    "                result.append(prefix_array[R] - prefix_array[L-1])\n",
    "    return result    \n",
    "\n",
    "\n",
    "\n",
    "array = list(map(int, input(\"Enter array elements: \").strip().split()))\n",
    "q = int(input(\"Enter number of queries: \"))\n",
    "queries = []\n",
    "for _ in range(q):\n",
    "    L, R = map(int, input(\"Enter L and R: \").strip().split())\n",
    "    queries.append((L, R))\n",
    "\n",
    "print(Prefix_Sum1(array,queries))"
   ]
  },
  {
   "cell_type": "markdown",
   "id": "ead051e4-4a4c-4684-9a4d-353ba28345ee",
   "metadata": {},
   "source": [
    "### 2. Prefix Sum – Count Subarrays With Sum = K (Using Hashmap)\n",
    "\n",
    "**Problem:**  \n",
    "Given an array and a number `k`, find the total number of subarrays whose sum is exactly k.\n",
    "\n",
    "**Input:**  arr = [1, 2, 3],    k = 3\n",
    "\n",
    "\n",
    "**Expected Output:**  2    ( [1, 2] and [3] )"
   ]
  },
  {
   "cell_type": "code",
   "execution_count": 2,
   "id": "b058f211-08e7-46a8-99ad-fb7133941cc8",
   "metadata": {},
   "outputs": [
    {
     "name": "stdin",
     "output_type": "stream",
     "text": [
      " 1 2 3\n",
      " 3\n"
     ]
    },
    {
     "name": "stdout",
     "output_type": "stream",
     "text": [
      "2\n"
     ]
    }
   ],
   "source": [
    "def Prefix_Sum2(array,k):\n",
    "    prefix_sum = 0\n",
    "    count = 0\n",
    "    prefix_map = {0:1}\n",
    "\n",
    "    for num in array:\n",
    "        prefix_sum += num\n",
    "        if (prefix_sum-k) in prefix_map:\n",
    "            count += prefix_map[ prefix_sum-k ]\n",
    "        if prefix_sum in prefix_map:\n",
    "            prefix_map[prefix_sum] += 1\n",
    "        else:\n",
    "            prefix_map[prefix_sum] = 1\n",
    "    return count\n",
    "\n",
    "array = list(map(int,input().split()))\n",
    "k = int(input())\n",
    "print(Prefix_Sum2(array,k))"
   ]
  },
  {
   "cell_type": "markdown",
   "id": "6b1158fa-78dc-4149-95a0-a4b12f0e9e41",
   "metadata": {},
   "source": [
    "### 3. Prefix Sum – Largest Subarray With Sum K (Sliding Window or Prefix)\n",
    "\n",
    "**Problem:**  \n",
    "Find the **length of the longest subarray** with sum equal to `k`.\n",
    "\n",
    "**Input:**  arr = [1, 2, 1, 1, 1]    k = 3\n",
    "\n",
    "**Expected Output:**  3    ( [1, 1, 1] is the longest subarray with sum 3 )\n"
   ]
  },
  {
   "cell_type": "code",
   "execution_count": 6,
   "id": "f80513fa-e2d1-47c2-8d62-36abee748844",
   "metadata": {},
   "outputs": [
    {
     "name": "stdin",
     "output_type": "stream",
     "text": [
      " 1 2 1 1 1\n",
      " 3\n"
     ]
    },
    {
     "name": "stdout",
     "output_type": "stream",
     "text": [
      "3\n"
     ]
    }
   ],
   "source": [
    "def Problem(array, k):\n",
    "    prefix_sum = 0\n",
    "    max_len = 0\n",
    "    prefix_map = {}  \n",
    "\n",
    "    for i in range(len(array)):\n",
    "        prefix_sum += array[i]\n",
    "\n",
    "        if prefix_sum == k:\n",
    "            max_len = i + 1\n",
    "\n",
    "        if (prefix_sum - k) in prefix_map:\n",
    "            max_len = max(max_len, i - prefix_map[prefix_sum - k])\n",
    "\n",
    "        if prefix_sum not in prefix_map:\n",
    "            prefix_map[prefix_sum] = i\n",
    "\n",
    "    return max_len\n",
    "\n",
    "array = list(map(int,input().split()))\n",
    "k = int(input())\n",
    "print(Problem(array, k))"
   ]
  },
  {
   "cell_type": "markdown",
   "id": "05af40e9-7c75-4c31-904b-58f3ac65f929",
   "metadata": {},
   "source": [
    "### 4. Difference Array – Range Increment Operations\n",
    "\n",
    "**Problem:**  \n",
    "You are given an array of size `n` initialized to 0. Perform `m` operations of the form `(a, b, k)` → increment all elements from index `a` to `b` (inclusive) by `k`. Return the maximum value after all operations.\n",
    "\n",
    "**Input:**\n",
    "```\n",
    "n = 5, m = 3\n",
    "Operations:\n",
    "(0, 1, 100)\n",
    "(1, 4, 100)\n",
    "(2, 3, 100)\n",
    "```\n",
    "**Expected Output:** 200"
   ]
  },
  {
   "cell_type": "code",
   "execution_count": 7,
   "id": "bcd29b44-9938-4555-941f-9e10ccf265b3",
   "metadata": {},
   "outputs": [
    {
     "name": "stdin",
     "output_type": "stream",
     "text": [
      "Enter size of array (n):  5\n",
      "Enter number of operations (m):  3\n",
      "Enter a, b, k:  0 1 100\n",
      "Enter a, b, k:  1 4 100\n",
      "Enter a, b, k:  2 3 100\n"
     ]
    },
    {
     "name": "stdout",
     "output_type": "stream",
     "text": [
      "[100, 100, 0, 0, -100, 0]\n"
     ]
    }
   ],
   "source": [
    "def prefix_sum_max():\n",
    "    n = int(input(\"Enter size of array (n): \"))\n",
    "    m = int(input(\"Enter number of operations (m): \"))\n",
    "\n",
    "    # Step 1: Initialize a difference array\n",
    "    arr = [0] * (n + 1)  # n+1 to handle boundary cases\n",
    "\n",
    "    # Step 2: Take m operations as input\n",
    "    for _ in range(m):\n",
    "        a, b, k = map(int, input(\"Enter a, b, k: \").split())\n",
    "        arr[a] += k\n",
    "        if b + 1 < n:\n",
    "            arr[b + 1] -= k\n",
    "\n",
    "    # Step 3: Apply prefix sum to calculate final array values\n",
    "    max_value = 0\n",
    "    current = 0\n",
    "    for i in range(n):\n",
    "        current += arr[i]\n",
    "        max_value = max(max_value, current)\n",
    "    return arr\n",
    " \n",
    "print(prefix_sum_max())"
   ]
  },
  {
   "cell_type": "markdown",
   "id": "756c2874-2aeb-487a-84e3-7b4ba6facd0e",
   "metadata": {},
   "source": [
    "### 5. 2D Prefix Sum – Matrix Subrectangle Sum\n",
    "\n",
    "**Problem:**  \n",
    "Given a matrix and queries `(r1, c1, r2, c2)`, return the sum of all elements in the subrectangle from `(r1, c1)` to `(r2, c2)`.\n",
    "\n",
    "**Input:**\n",
    "```\n",
    "matrix = [\n",
    "  [1, 2, 3],\n",
    "  [4, 5, 6],\n",
    "  [7, 8, 9]\n",
    "]\n",
    "Query: (1, 1, 2, 2)\n",
    "```\n",
    "\n",
    "**Expected Output:**\n",
    "```\n",
    "28\n",
    "(5 + 6 + 8 + 9)"
   ]
  },
  {
   "cell_type": "code",
   "execution_count": 8,
   "id": "216dad2e-f1c2-4101-8b6e-3679ae566eea",
   "metadata": {},
   "outputs": [
    {
     "name": "stdout",
     "output_type": "stream",
     "text": [
      "28\n"
     ]
    }
   ],
   "source": [
    "def compute_prefix_sum(matrix):\n",
    "    n = len(matrix)\n",
    "    m = len(matrix[0])\n",
    "    prefix = [[0] * m for _ in range(n)]\n",
    "\n",
    "    for i in range(n):\n",
    "        for j in range(m):\n",
    "            top = prefix[i-1][j] if i > 0 else 0\n",
    "            left = prefix[i][j-1] if j > 0 else 0\n",
    "            top_left = prefix[i-1][j-1] if i > 0 and j > 0 else 0\n",
    "            prefix[i][j] = matrix[i][j] + top + left - top_left\n",
    "\n",
    "    return prefix\n",
    "\n",
    "def submatrix_sum(prefix, r1, c1, r2, c2):\n",
    "    total = prefix[r2][c2]\n",
    "    extra_top = prefix[r1-1][c2] if r1 > 0 else 0\n",
    "    extra_left = prefix[r2][c1-1] if c1 > 0 else 0\n",
    "    add_back = prefix[r1-1][c1-1] if r1 > 0 and c1 > 0 else 0\n",
    "    return total - extra_top - extra_left + add_back\n",
    "\n",
    "matrix = [\n",
    "  [1, 2, 3],\n",
    "  [4, 5, 6],\n",
    "  [7, 8, 9]\n",
    "]\n",
    "\n",
    "query = (1, 1, 2, 2)  # (r1, c1, r2, c2)\n",
    "prefix = compute_prefix_sum(matrix)\n",
    "result = submatrix_sum(prefix, *query)\n",
    "print(result)\n"
   ]
  }
 ],
 "metadata": {
  "kernelspec": {
   "display_name": "Python 3 (ipykernel)",
   "language": "python",
   "name": "python3"
  },
  "language_info": {
   "codemirror_mode": {
    "name": "ipython",
    "version": 3
   },
   "file_extension": ".py",
   "mimetype": "text/x-python",
   "name": "python",
   "nbconvert_exporter": "python",
   "pygments_lexer": "ipython3",
   "version": "3.11.7"
  }
 },
 "nbformat": 4,
 "nbformat_minor": 5
}
